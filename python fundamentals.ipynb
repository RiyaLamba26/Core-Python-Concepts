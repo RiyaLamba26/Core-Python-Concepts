{
 "cells": [
  {
   "cell_type": "markdown",
   "id": "d3605b93",
   "metadata": {},
   "source": [
    "# COMMENTS : It is used to explain the code which enhances the readibilty of my code\n",
    "\n",
    "two types of comments\n",
    "1. single line\n",
    "2. multiline\n",
    "\n",
    " "
   ]
  },
  {
   "cell_type": "markdown",
   "id": "c6fbe52d",
   "metadata": {},
   "source": [
    "# single line\n"
   ]
  },
  {
   "cell_type": "code",
   "execution_count": 2,
   "id": "c8197e22",
   "metadata": {},
   "outputs": [
    {
     "name": "stdout",
     "output_type": "stream",
     "text": [
      "manav\n",
      "riya\n"
     ]
    }
   ],
   "source": [
    "#this program is for displaying names\n",
    "print(\"manav\")\n",
    "print(\"riya\")"
   ]
  },
  {
   "cell_type": "markdown",
   "id": "059e852c",
   "metadata": {},
   "source": [
    "# multiline comments"
   ]
  },
  {
   "cell_type": "code",
   "execution_count": 5,
   "id": "02cf5267",
   "metadata": {},
   "outputs": [
    {
     "name": "stdout",
     "output_type": "stream",
     "text": [
      "hello world\n",
      "hii\n"
     ]
    }
   ],
   "source": [
    "'''this is my first program\n",
    "here i am using the print function use 3'' to explain multiline '''\n",
    "print(\"hello world\")\n",
    "print(\"hii\")"
   ]
  },
  {
   "cell_type": "markdown",
   "id": "1036518a",
   "metadata": {},
   "source": [
    "# VARIABLE= It is the container which is used to hold the data"
   ]
  },
  {
   "cell_type": "markdown",
   "id": "db2700de",
   "metadata": {},
   "source": [
    " ## how to create the variables?\n"
   ]
  },
  {
   "cell_type": "code",
   "execution_count": 8,
   "id": "d464873b",
   "metadata": {},
   "outputs": [],
   "source": [
    "a=56 #a is the variable and 56 is the value assigned to a\n",
    "b=65"
   ]
  },
  {
   "cell_type": "markdown",
   "id": "5e3d729a",
   "metadata": {},
   "source": [
    "id() - it is the inbuilt function of the python which tells the address of variable"
   ]
  },
  {
   "cell_type": "code",
   "execution_count": 9,
   "id": "eeaf5842",
   "metadata": {},
   "outputs": [
    {
     "name": "stdout",
     "output_type": "stream",
     "text": [
      "1807824193488\n",
      "1807824193776\n"
     ]
    }
   ],
   "source": [
    "print(id(a))\n",
    "print(id (b))"
   ]
  },
  {
   "cell_type": "code",
   "execution_count": 10,
   "id": "b3e89374",
   "metadata": {},
   "outputs": [
    {
     "data": {
      "text/plain": [
       "56"
      ]
     },
     "execution_count": 10,
     "metadata": {},
     "output_type": "execute_result"
    }
   ],
   "source": [
    "a #access the variable\n"
   ]
  },
  {
   "cell_type": "code",
   "execution_count": 11,
   "id": "d7a03a00",
   "metadata": {},
   "outputs": [
    {
     "data": {
      "text/plain": [
       "65"
      ]
     },
     "execution_count": 11,
     "metadata": {},
     "output_type": "execute_result"
    }
   ],
   "source": [
    " b #access the variable"
   ]
  },
  {
   "cell_type": "code",
   "execution_count": 12,
   "id": "febdf519",
   "metadata": {},
   "outputs": [
    {
     "data": {
      "text/plain": [
       "121"
      ]
     },
     "execution_count": 12,
     "metadata": {},
     "output_type": "execute_result"
    }
   ],
   "source": [
    "a+b"
   ]
  },
  {
   "cell_type": "markdown",
   "id": "f006cc85",
   "metadata": {},
   "source": [
    "#  IDENTIFIER = it is the naming representation of variables functions etc.\n"
   ]
  },
  {
   "cell_type": "markdown",
   "id": "3956c4c1",
   "metadata": {},
   "source": [
    "- it starts with letters, special characters i.e., _\n",
    "- it can have numbers , letters,spl. character i.e.,_  anywhere except at the beginning\n",
    "- it is case sensitive\n",
    "- it could be any length\n",
    "- it should not be a keyword"
   ]
  },
  {
   "cell_type": "markdown",
   "id": "1119506a",
   "metadata": {},
   "source": [
    "## it starts with letters, special characters i.e., _"
   ]
  },
  {
   "cell_type": "code",
   "execution_count": 13,
   "id": "61441289",
   "metadata": {},
   "outputs": [],
   "source": [
    "manav=90"
   ]
  },
  {
   "cell_type": "code",
   "execution_count": 14,
   "id": "b01030f3",
   "metadata": {},
   "outputs": [],
   "source": [
    "_manav=20"
   ]
  },
  {
   "cell_type": "code",
   "execution_count": 15,
   "id": "299da9e3",
   "metadata": {},
   "outputs": [
    {
     "ename": "SyntaxError",
     "evalue": "invalid decimal literal (339510144.py, line 1)",
     "output_type": "error",
     "traceback": [
      "\u001b[1;36m  Cell \u001b[1;32mIn[15], line 1\u001b[1;36m\u001b[0m\n\u001b[1;33m    1manav=300\u001b[0m\n\u001b[1;37m    ^\u001b[0m\n\u001b[1;31mSyntaxError\u001b[0m\u001b[1;31m:\u001b[0m invalid decimal literal\n"
     ]
    }
   ],
   "source": [
    "1manav=300"
   ]
  },
  {
   "cell_type": "code",
   "execution_count": 19,
   "id": "ed5ddce2",
   "metadata": {},
   "outputs": [
    {
     "ename": "SyntaxError",
     "evalue": "invalid syntax. Maybe you meant '==' or ':=' instead of '='? (181390921.py, line 1)",
     "output_type": "error",
     "traceback": [
      "\u001b[1;36m  Cell \u001b[1;32mIn[19], line 1\u001b[1;36m\u001b[0m\n\u001b[1;33m    @manav= 30\u001b[0m\n\u001b[1;37m     ^\u001b[0m\n\u001b[1;31mSyntaxError\u001b[0m\u001b[1;31m:\u001b[0m invalid syntax. Maybe you meant '==' or ':=' instead of '='?\n"
     ]
    }
   ],
   "source": [
    "@manav= 30"
   ]
  },
  {
   "cell_type": "markdown",
   "id": "11b9dfe3",
   "metadata": {},
   "source": [
    "## it can have numbers , letters,spl. character i.e.,_ anywhere except at the beginning"
   ]
  },
  {
   "cell_type": "code",
   "execution_count": 16,
   "id": "e39a9d45",
   "metadata": {},
   "outputs": [],
   "source": [
    "balmeet123=20"
   ]
  },
  {
   "cell_type": "code",
   "execution_count": 17,
   "id": "71db6b64",
   "metadata": {},
   "outputs": [],
   "source": [
    "balmeet_26=500"
   ]
  },
  {
   "cell_type": "code",
   "execution_count": 18,
   "id": "1ed78ae6",
   "metadata": {},
   "outputs": [
    {
     "ename": "SyntaxError",
     "evalue": "cannot assign to expression here. Maybe you meant '==' instead of '='? (525876190.py, line 1)",
     "output_type": "error",
     "traceback": [
      "\u001b[1;36m  Cell \u001b[1;32mIn[18], line 1\u001b[1;36m\u001b[0m\n\u001b[1;33m    balmeet@23=40\u001b[0m\n\u001b[1;37m    ^\u001b[0m\n\u001b[1;31mSyntaxError\u001b[0m\u001b[1;31m:\u001b[0m cannot assign to expression here. Maybe you meant '==' instead of '='?\n"
     ]
    }
   ],
   "source": [
    "balmeet@23=40"
   ]
  },
  {
   "cell_type": "markdown",
   "id": "eebf23ab",
   "metadata": {},
   "source": [
    "## it is case sensitive"
   ]
  },
  {
   "cell_type": "code",
   "execution_count": 20,
   "id": "1f8fb0c1",
   "metadata": {},
   "outputs": [],
   "source": [
    "balmeet=40\n"
   ]
  },
  {
   "cell_type": "code",
   "execution_count": 21,
   "id": "b511ebe4",
   "metadata": {},
   "outputs": [],
   "source": [
    "BALMEET=55"
   ]
  },
  {
   "cell_type": "code",
   "execution_count": 22,
   "id": "650d0723",
   "metadata": {},
   "outputs": [
    {
     "data": {
      "text/plain": [
       "55"
      ]
     },
     "execution_count": 22,
     "metadata": {},
     "output_type": "execute_result"
    }
   ],
   "source": [
    "BALMEET"
   ]
  },
  {
   "cell_type": "code",
   "execution_count": 23,
   "id": "53da3e2b",
   "metadata": {},
   "outputs": [
    {
     "data": {
      "text/plain": [
       "40"
      ]
     },
     "execution_count": 23,
     "metadata": {},
     "output_type": "execute_result"
    }
   ],
   "source": [
    "balmeet\n"
   ]
  },
  {
   "cell_type": "markdown",
   "id": "a2271c6f",
   "metadata": {},
   "source": [
    "## it could be any length"
   ]
  },
  {
   "cell_type": "code",
   "execution_count": 24,
   "id": "e5535b90",
   "metadata": {},
   "outputs": [],
   "source": [
    "abCDefdg67_kom=60"
   ]
  },
  {
   "cell_type": "code",
   "execution_count": 25,
   "id": "8536d688",
   "metadata": {},
   "outputs": [
    {
     "data": {
      "text/plain": [
       "60"
      ]
     },
     "execution_count": 25,
     "metadata": {},
     "output_type": "execute_result"
    }
   ],
   "source": [
    "abCDefdg67_kom"
   ]
  },
  {
   "cell_type": "markdown",
   "id": "92e9e44f",
   "metadata": {},
   "source": [
    "## it should not be a keyword"
   ]
  },
  {
   "cell_type": "markdown",
   "id": "763fc511",
   "metadata": {},
   "source": [
    "KEYWORDS- KEYWORDS ARE THE RESERVED WORDS IN THE PYTHON WHICH HAS SPECIAL MEANING."
   ]
  },
  {
   "cell_type": "code",
   "execution_count": 28,
   "id": "66f39230",
   "metadata": {},
   "outputs": [],
   "source": [
    "import keyword"
   ]
  },
  {
   "cell_type": "code",
   "execution_count": 4,
   "id": "8babffd4",
   "metadata": {},
   "outputs": [
    {
     "name": "stdout",
     "output_type": "stream",
     "text": [
      "keyword.kwlist\n"
     ]
    }
   ],
   "source": [
    "print (keyword.kwlist)"
   ]
  },
  {
   "cell_type": "code",
   "execution_count": 3,
   "id": "ad9c89ca",
   "metadata": {},
   "outputs": [
    {
     "ename": "SyntaxError",
     "evalue": "invalid syntax (586179600.py, line 1)",
     "output_type": "error",
     "traceback": [
      "\u001b[1;36m  Cell \u001b[1;32mIn[3], line 1\u001b[1;36m\u001b[0m\n\u001b[1;33m    if=100\u001b[0m\n\u001b[1;37m      ^\u001b[0m\n\u001b[1;31mSyntaxError\u001b[0m\u001b[1;31m:\u001b[0m invalid syntax\n"
     ]
    }
   ],
   "source": [
    "if=100"
   ]
  },
  {
   "cell_type": "code",
   "execution_count": 33,
   "id": "574a9829",
   "metadata": {},
   "outputs": [],
   "source": [
    "IF=39"
   ]
  },
  {
   "cell_type": "code",
   "execution_count": 34,
   "id": "b345fcbe",
   "metadata": {},
   "outputs": [],
   "source": [
    "If=68"
   ]
  },
  {
   "cell_type": "markdown",
   "id": "ed584ad5",
   "metadata": {},
   "source": [
    "# LITERAL: VALUE OF VARIABLE"
   ]
  },
  {
   "cell_type": "code",
   "execution_count": 11,
   "id": "60205104",
   "metadata": {},
   "outputs": [],
   "source": [
    "A=90 ## HERE A IS VARIABLE AND 90 IS LITERAL"
   ]
  },
  {
   "cell_type": "markdown",
   "id": "3ca78d92",
   "metadata": {},
   "source": [
    "# DATA TYPES : defines the type of data that container/ variable contains."
   ]
  },
  {
   "cell_type": "markdown",
   "id": "2ad6c8e3",
   "metadata": {},
   "source": [
    "- NUMERIC\n",
    "  - INT\n",
    "  - FLOAT\n",
    "  - COMPLEX\n",
    "- SEQUENCE\n",
    "   - STRING\n",
    "   - LIST\n",
    "   - TUPLE\n",
    "- BOOLEAN\n",
    "- DICTIONARY\n",
    "- SET"
   ]
  },
  {
   "cell_type": "markdown",
   "id": "02def915",
   "metadata": {},
   "source": [
    "##INTEGER : WHOLE NUMBERS"
   ]
  },
  {
   "cell_type": "code",
   "execution_count": 4,
   "id": "311afd38",
   "metadata": {},
   "outputs": [
    {
     "name": "stdout",
     "output_type": "stream",
     "text": [
      "90\n",
      "<class 'int'>\n"
     ]
    }
   ],
   "source": [
    "A=90\n",
    "print(A)\n",
    "print(type(A))"
   ]
  },
  {
   "cell_type": "markdown",
   "id": "fef19d9a",
   "metadata": {},
   "source": [
    "## FLOAT: DECIMALS\n"
   ]
  },
  {
   "cell_type": "code",
   "execution_count": 7,
   "id": "b519dc67",
   "metadata": {},
   "outputs": [
    {
     "name": "stdout",
     "output_type": "stream",
     "text": [
      "80.9\n",
      "<class 'float'>\n"
     ]
    }
   ],
   "source": [
    "b= 80.9\n",
    "print(b)\n",
    "print(type(b))"
   ]
  },
  {
   "cell_type": "markdown",
   "id": "3b47614b",
   "metadata": {},
   "source": [
    "## COMPLEX: REAL + IMAGINARY NO.S"
   ]
  },
  {
   "cell_type": "code",
   "execution_count": 12,
   "id": "2c67bfc7",
   "metadata": {},
   "outputs": [
    {
     "name": "stdout",
     "output_type": "stream",
     "text": [
      "(5+6j)\n",
      "<class 'complex'>\n"
     ]
    }
   ],
   "source": [
    "c=5+6j ## j is used for imaginary no. 5 is real no. 6j is imaginary no.\n",
    "print(c)\n",
    "print(type(c))"
   ]
  },
  {
   "cell_type": "markdown",
   "id": "769e2b1b",
   "metadata": {},
   "source": [
    "## Boolean or bool: True/False"
   ]
  },
  {
   "cell_type": "code",
   "execution_count": 15,
   "id": "ef757fb3",
   "metadata": {},
   "outputs": [
    {
     "name": "stdout",
     "output_type": "stream",
     "text": [
      "True\n",
      "<class 'bool'>\n"
     ]
    }
   ],
   "source": [
    "x=True\n",
    "print(x)\n",
    "print(type(x))"
   ]
  },
  {
   "cell_type": "code",
   "execution_count": 16,
   "id": "d7ebcc37",
   "metadata": {},
   "outputs": [
    {
     "name": "stdout",
     "output_type": "stream",
     "text": [
      "False\n",
      "<class 'bool'>\n"
     ]
    }
   ],
   "source": [
    "Y= False\n",
    "print(Y)\n",
    "print(type(Y))"
   ]
  },
  {
   "cell_type": "code",
   "execution_count": 17,
   "id": "570acf28",
   "metadata": {},
   "outputs": [
    {
     "ename": "NameError",
     "evalue": "name 'TRUE' is not defined",
     "output_type": "error",
     "traceback": [
      "\u001b[1;31m---------------------------------------------------------------------------\u001b[0m",
      "\u001b[1;31mNameError\u001b[0m                                 Traceback (most recent call last)",
      "Cell \u001b[1;32mIn[17], line 1\u001b[0m\n\u001b[1;32m----> 1\u001b[0m X\u001b[38;5;241m=\u001b[39m \u001b[43mTRUE\u001b[49m\n\u001b[0;32m      2\u001b[0m \u001b[38;5;28mprint\u001b[39m(\u001b[38;5;28mtype\u001b[39m(X))\n",
      "\u001b[1;31mNameError\u001b[0m: name 'TRUE' is not defined"
     ]
    }
   ],
   "source": [
    "X= TRUE\n",
    "print(type(X))"
   ]
  },
  {
   "cell_type": "markdown",
   "id": "a9fa934f",
   "metadata": {},
   "source": [
    "# SEQUENCE TYPE\n",
    " ## STRING = TEXTUAL DATA\n",
    " ### WE HAVE THREE WAYS TO CREATE STRINGS"
   ]
  },
  {
   "cell_type": "code",
   "execution_count": 19,
   "id": "8bfed7cb",
   "metadata": {},
   "outputs": [
    {
     "name": "stdout",
     "output_type": "stream",
     "text": [
      "madrid\n",
      "<class 'str'>\n"
     ]
    }
   ],
   "source": [
    "a='madrid'\n",
    "print(a)\n",
    "print(type(a)) ## use single ''"
   ]
  },
  {
   "cell_type": "code",
   "execution_count": 20,
   "id": "17c8b0ee",
   "metadata": {},
   "outputs": [
    {
     "name": "stdout",
     "output_type": "stream",
     "text": [
      "4509\n",
      "<class 'str'>\n"
     ]
    }
   ],
   "source": [
    "c='4509'\n",
    "print(c)\n",
    "print (type(c))"
   ]
  },
  {
   "cell_type": "code",
   "execution_count": 21,
   "id": "0cb02a8f",
   "metadata": {},
   "outputs": [
    {
     "ename": "SyntaxError",
     "evalue": "unterminated string literal (detected at line 1) (1115649705.py, line 1)",
     "output_type": "error",
     "traceback": [
      "\u001b[1;36m  Cell \u001b[1;32mIn[21], line 1\u001b[1;36m\u001b[0m\n\u001b[1;33m    t= 'hi how'r you'\u001b[0m\n\u001b[1;37m                    ^\u001b[0m\n\u001b[1;31mSyntaxError\u001b[0m\u001b[1;31m:\u001b[0m unterminated string literal (detected at line 1)\n"
     ]
    }
   ],
   "source": [
    "t= 'hi how'r you'\n",
    "print(t)\n",
    "print(type(t))"
   ]
  },
  {
   "cell_type": "code",
   "execution_count": 22,
   "id": "3110601a",
   "metadata": {},
   "outputs": [
    {
     "name": "stdout",
     "output_type": "stream",
     "text": [
      "<class 'str'>\n"
     ]
    }
   ],
   "source": [
    "a=\"madrid\"\n",
    "print(type(a)) ## double string"
   ]
  },
  {
   "cell_type": "code",
   "execution_count": 26,
   "id": "843dca71",
   "metadata": {},
   "outputs": [
    {
     "name": "stdout",
     "output_type": "stream",
     "text": [
      "<class 'str'>\n"
     ]
    }
   ],
   "source": [
    "t= \"hi how'r you \"\n",
    "print(type(t))"
   ]
  },
  {
   "cell_type": "code",
   "execution_count": 24,
   "id": "ee8d1e92",
   "metadata": {},
   "outputs": [],
   "source": [
    "## multiline strings 3''''''"
   ]
  },
  {
   "cell_type": "markdown",
   "id": "8a6c9529",
   "metadata": {},
   "source": [
    " # LIST: it is the ordered collection of multiple data\n",
    " use [] for list"
   ]
  },
  {
   "cell_type": "code",
   "execution_count": 28,
   "id": "03b92c31",
   "metadata": {},
   "outputs": [
    {
     "name": "stdout",
     "output_type": "stream",
     "text": [
      "['riya', 80, 20, 927806789, 'madrid']\n",
      "<class 'list'>\n"
     ]
    }
   ],
   "source": [
    "l=[\"riya\",80,20,927806789,\"madrid\"] ## heter ogeneous as contains diff. data types\n",
    "print(l)\n",
    "print(type(l))"
   ]
  },
  {
   "cell_type": "code",
   "execution_count": 30,
   "id": "f8a741a5",
   "metadata": {},
   "outputs": [
    {
     "name": "stdout",
     "output_type": "stream",
     "text": [
      "[80.5, 60.8, 67.9, 89.7]\n",
      "<class 'list'>\n"
     ]
    }
   ],
   "source": [
    "p=[80.5,60.8,67.9,89.7] ## homogeneous as it contains only float data\n",
    "print(p)\n",
    "print (type(p))"
   ]
  },
  {
   "cell_type": "markdown",
   "id": "0a22b696",
   "metadata": {},
   "source": [
    "# TUPLE : SIMILAR AS LIST\n",
    "use() tuple"
   ]
  },
  {
   "cell_type": "code",
   "execution_count": 31,
   "id": "844a8c63",
   "metadata": {},
   "outputs": [
    {
     "name": "stdout",
     "output_type": "stream",
     "text": [
      "('manav', 'da', 989067890, 'madrid')\n",
      "<class 'tuple'>\n"
     ]
    }
   ],
   "source": [
    "t=(\"manav\",\"da\",989067890,\"madrid\")\n",
    "print(t)\n",
    "print(type(t))"
   ]
  },
  {
   "cell_type": "markdown",
   "id": "58600abe",
   "metadata": {},
   "source": [
    "set n dictionary will be discussed later\n"
   ]
  },
  {
   "cell_type": "markdown",
   "id": "56f47df5",
   "metadata": {},
   "source": [
    "# TYPE CASTING: TYPE CONVERSION\n",
    "\n",
    "## STR TO INT"
   ]
  },
  {
   "cell_type": "code",
   "execution_count": 39,
   "id": "89e0561d",
   "metadata": {},
   "outputs": [
    {
     "name": "stdout",
     "output_type": "stream",
     "text": [
      "90\n",
      "<class 'str'>\n",
      "90\n",
      "<class 'int'>\n"
     ]
    }
   ],
   "source": [
    "s=\"90\"\n",
    "print(s)\n",
    "print(type(s))\n",
    "a=int(s)\n",
    "print(a)\n",
    "print(type(a))"
   ]
  },
  {
   "cell_type": "markdown",
   "id": "b064ece0",
   "metadata": {},
   "source": [
    "# int to str"
   ]
  },
  {
   "cell_type": "code",
   "execution_count": 35,
   "id": "ca7956ca",
   "metadata": {},
   "outputs": [
    {
     "name": "stdout",
     "output_type": "stream",
     "text": [
      "123\n",
      "<class 'int'>\n",
      "123\n",
      "<class 'str'>\n"
     ]
    }
   ],
   "source": [
    "a=123\n",
    "print(a)\n",
    "print(type(a))\n",
    "a1=str(a)\n",
    "print(a1)\n",
    "print(type(a1))"
   ]
  },
  {
   "cell_type": "markdown",
   "id": "1fabda23",
   "metadata": {},
   "source": [
    "# int to float"
   ]
  },
  {
   "cell_type": "code",
   "execution_count": 37,
   "id": "8d6a68de",
   "metadata": {},
   "outputs": [
    {
     "name": "stdout",
     "output_type": "stream",
     "text": [
      "1234\n",
      "<class 'int'>\n",
      "1234.0\n",
      "<class 'float'>\n"
     ]
    }
   ],
   "source": [
    "x=1234\n",
    "print(x)\n",
    "print(type(x))\n",
    "y=float(x)\n",
    "print(y)\n",
    "print(type(y))"
   ]
  },
  {
   "cell_type": "markdown",
   "id": "445f76f4",
   "metadata": {},
   "source": [
    "## float to int\n"
   ]
  },
  {
   "cell_type": "code",
   "execution_count": 38,
   "id": "996e2f79",
   "metadata": {},
   "outputs": [
    {
     "name": "stdout",
     "output_type": "stream",
     "text": [
      "89.7\n",
      "<class 'float'>\n",
      "89\n",
      "<class 'int'>\n"
     ]
    }
   ],
   "source": [
    "d=89.7\n",
    "print(d)\n",
    "print(type(d))\n",
    "h=int(d)\n",
    "print(h)\n",
    "print(type(h))"
   ]
  },
  {
   "cell_type": "markdown",
   "id": "b9f080e7",
   "metadata": {},
   "source": [
    "## int to bool"
   ]
  },
  {
   "cell_type": "code",
   "execution_count": 41,
   "id": "aec2fe9a",
   "metadata": {},
   "outputs": [
    {
     "name": "stdout",
     "output_type": "stream",
     "text": [
      "10\n",
      "<class 'int'>\n",
      "True\n",
      "<class 'bool'>\n"
     ]
    }
   ],
   "source": [
    "a=10 ## any positive or neg numbers is true and 0 is false.\n",
    "print(a)\n",
    "print(type(a))\n",
    "b=bool(a)\n",
    "print(b)\n",
    "print(type(b))"
   ]
  },
  {
   "cell_type": "markdown",
   "id": "730b3ba9",
   "metadata": {},
   "source": [
    "## bool to int"
   ]
  },
  {
   "cell_type": "code",
   "execution_count": 42,
   "id": "e813cf73",
   "metadata": {},
   "outputs": [
    {
     "name": "stdout",
     "output_type": "stream",
     "text": [
      "False\n",
      "<class 'bool'>\n",
      "0\n",
      "<class 'int'>\n"
     ]
    }
   ],
   "source": [
    "a=False\n",
    "print(a)\n",
    "print(type(a))\n",
    "a1=int(a)\n",
    "print(a1)\n",
    "print(type(a1)) ## false=0 true=1"
   ]
  },
  {
   "cell_type": "markdown",
   "id": "3640a296",
   "metadata": {},
   "source": [
    "# str to float"
   ]
  },
  {
   "cell_type": "code",
   "execution_count": 43,
   "id": "1a094cbf",
   "metadata": {},
   "outputs": [
    {
     "name": "stdout",
     "output_type": "stream",
     "text": [
      "144.6\n",
      "<class 'str'>\n",
      "144.6\n",
      "<class 'float'>\n"
     ]
    }
   ],
   "source": [
    "s=\"144.6\" ## no letters can be changed\n",
    "print(s)\n",
    "print(type(s))\n",
    "s1=float(s)\n",
    "print(s1)\n",
    "print(type(s1))"
   ]
  },
  {
   "cell_type": "code",
   "execution_count": 44,
   "id": "e230f9a8",
   "metadata": {},
   "outputs": [
    {
     "name": "stdout",
     "output_type": "stream",
     "text": [
      "madrid\n"
     ]
    },
    {
     "ename": "ValueError",
     "evalue": "could not convert string to float: 'madrid'",
     "output_type": "error",
     "traceback": [
      "\u001b[1;31m---------------------------------------------------------------------------\u001b[0m",
      "\u001b[1;31mValueError\u001b[0m                                Traceback (most recent call last)",
      "Cell \u001b[1;32mIn[44], line 3\u001b[0m\n\u001b[0;32m      1\u001b[0m s\u001b[38;5;241m=\u001b[39m\u001b[38;5;124m\"\u001b[39m\u001b[38;5;124mmadrid\u001b[39m\u001b[38;5;124m\"\u001b[39m\n\u001b[0;32m      2\u001b[0m \u001b[38;5;28mprint\u001b[39m(s)\n\u001b[1;32m----> 3\u001b[0m s1\u001b[38;5;241m=\u001b[39m\u001b[38;5;28;43mfloat\u001b[39;49m\u001b[43m(\u001b[49m\u001b[43ms\u001b[49m\u001b[43m)\u001b[49m\n\u001b[0;32m      4\u001b[0m \u001b[38;5;28mprint\u001b[39m(s1)\n\u001b[0;32m      5\u001b[0m \u001b[38;5;28mprint\u001b[39m(\u001b[38;5;28mtype\u001b[39m(s1))\n",
      "\u001b[1;31mValueError\u001b[0m: could not convert string to float: 'madrid'"
     ]
    }
   ],
   "source": [
    "s=\"madrid\"\n",
    "print(s)\n",
    "s1=float(s)\n",
    "print(s1)\n",
    "print(type(s1))"
   ]
  },
  {
   "cell_type": "markdown",
   "id": "e89482c2",
   "metadata": {},
   "source": [
    "## str to int"
   ]
  },
  {
   "cell_type": "code",
   "execution_count": 46,
   "id": "f9ab2306",
   "metadata": {},
   "outputs": [
    {
     "name": "stdout",
     "output_type": "stream",
     "text": [
      "124.8\n",
      "<class 'str'>\n",
      "124\n",
      "<class 'int'>\n"
     ]
    }
   ],
   "source": [
    "s=\"124.8\" ## it requires double conversion\n",
    "print(s)\n",
    "print(type(s))\n",
    "s1=float(s)\n",
    "s2=int(s1)\n",
    "print(s2)\n",
    "print(type(s2)) ## after point no. will be trunketed"
   ]
  },
  {
   "cell_type": "markdown",
   "id": "6bfd13f1",
   "metadata": {},
   "source": [
    "## str to list"
   ]
  },
  {
   "cell_type": "code",
   "execution_count": 48,
   "id": "e706d97f",
   "metadata": {},
   "outputs": [
    {
     "name": "stdout",
     "output_type": "stream",
     "text": [
      "madrid solution\n",
      "<class 'str'>\n",
      "['m', 'a', 'd', 'r', 'i', 'd', ' ', 's', 'o', 'l', 'u', 't', 'i', 'o', 'n']\n",
      "<class 'list'>\n"
     ]
    }
   ],
   "source": [
    "s=\"madrid solution\"\n",
    "print(s)\n",
    "print(type(s))\n",
    "s1=list(s)\n",
    "print(s1)\n",
    "print(type(s1))"
   ]
  },
  {
   "cell_type": "markdown",
   "id": "e2bd46d6",
   "metadata": {},
   "source": [
    "## tuple to list"
   ]
  },
  {
   "cell_type": "code",
   "execution_count": 49,
   "id": "7b58b092",
   "metadata": {},
   "outputs": [
    {
     "name": "stdout",
     "output_type": "stream",
     "text": [
      "(90, 90, 80)\n",
      "<class 'tuple'>\n",
      "[90, 90, 80]\n",
      "<class 'list'>\n"
     ]
    }
   ],
   "source": [
    "t=(90,90,80)\n",
    "print(t)\n",
    "print(type(t))\n",
    "a=list(t)\n",
    "print(a)\n",
    "print(type(a))"
   ]
  },
  {
   "cell_type": "markdown",
   "id": "0facc92b",
   "metadata": {},
   "source": [
    "## tuple/list to str"
   ]
  },
  {
   "cell_type": "code",
   "execution_count": 51,
   "id": "e690a90b",
   "metadata": {},
   "outputs": [
    {
     "name": "stdout",
     "output_type": "stream",
     "text": [
      "(78, 90, 67)\n",
      "<class 'tuple'>\n",
      "(78, 90, 67)\n",
      "<class 'str'>\n"
     ]
    }
   ],
   "source": [
    "t=(78,90,67)\n",
    "print(t)\n",
    "print(type(t))\n",
    "h=str(t)\n",
    "print(h)\n",
    "print(type(h))"
   ]
  },
  {
   "cell_type": "code",
   "execution_count": 52,
   "id": "421495f2",
   "metadata": {},
   "outputs": [
    {
     "name": "stdout",
     "output_type": "stream",
     "text": [
      "<class 'list'>\n",
      "[90, 80, 78]\n",
      "<class 'str'>\n"
     ]
    }
   ],
   "source": [
    "l=[90,80,78]\n",
    "print(type(l))\n",
    "j=str(l)\n",
    "print(j)\n",
    "print(type(j))"
   ]
  },
  {
   "cell_type": "code",
   "execution_count": 53,
   "id": "fefbc627",
   "metadata": {},
   "outputs": [
    {
     "data": {
      "text/plain": [
       "'[90, 80, 78]'"
      ]
     },
     "execution_count": 53,
     "metadata": {},
     "output_type": "execute_result"
    }
   ],
   "source": [
    "j"
   ]
  },
  {
   "cell_type": "markdown",
   "id": "4c01fd04",
   "metadata": {},
   "source": [
    "## INPUT AND OUTPUT FUNCTIONS\n",
    "\n",
    "-INPUT= can be used to take a value from user.\n",
    "\n",
    "-PRINT-= used to show output on default output which is screen."
   ]
  },
  {
   "cell_type": "markdown",
   "id": "eb4f84c4",
   "metadata": {},
   "source": [
    "# input"
   ]
  },
  {
   "cell_type": "code",
   "execution_count": 9,
   "id": "c1cffdc7",
   "metadata": {},
   "outputs": [
    {
     "name": "stdout",
     "output_type": "stream",
     "text": [
      "9\n"
     ]
    }
   ],
   "source": [
    "x=input() # it takes the input from user n print it in form of strings. by default input would be in string form "
   ]
  },
  {
   "cell_type": "code",
   "execution_count": 10,
   "id": "f536ddad",
   "metadata": {},
   "outputs": [
    {
     "data": {
      "text/plain": [
       "'9'"
      ]
     },
     "execution_count": 10,
     "metadata": {},
     "output_type": "execute_result"
    }
   ],
   "source": [
    "x"
   ]
  },
  {
   "cell_type": "code",
   "execution_count": 8,
   "id": "c0ba15b5",
   "metadata": {},
   "outputs": [
    {
     "data": {
      "text/plain": [
       "str"
      ]
     },
     "execution_count": 8,
     "metadata": {},
     "output_type": "execute_result"
    }
   ],
   "source": [
    "type(x)"
   ]
  },
  {
   "cell_type": "code",
   "execution_count": 6,
   "id": "4c6378f3",
   "metadata": {},
   "outputs": [
    {
     "name": "stdout",
     "output_type": "stream",
     "text": [
      "enter the nameihkik\n"
     ]
    }
   ],
   "source": [
    "y=input(\"enter the name\") ## you can add values inside \"\""
   ]
  },
  {
   "cell_type": "code",
   "execution_count": null,
   "id": "a8f49cb5",
   "metadata": {},
   "outputs": [],
   "source": [
    "type(y)"
   ]
  },
  {
   "cell_type": "code",
   "execution_count": 7,
   "id": "516d5bbe",
   "metadata": {},
   "outputs": [
    {
     "data": {
      "text/plain": [
       "'ihkik'"
      ]
     },
     "execution_count": 7,
     "metadata": {},
     "output_type": "execute_result"
    }
   ],
   "source": [
    "y"
   ]
  },
  {
   "cell_type": "code",
   "execution_count": 5,
   "id": "1d6c70e8",
   "metadata": {},
   "outputs": [
    {
     "data": {
      "text/plain": [
       "'7'"
      ]
     },
     "execution_count": 5,
     "metadata": {},
     "output_type": "execute_result"
    }
   ],
   "source": [
    "x"
   ]
  },
  {
   "cell_type": "code",
   "execution_count": 25,
   "id": "926be7cb",
   "metadata": {},
   "outputs": [
    {
     "name": "stdout",
     "output_type": "stream",
     "text": [
      "enter number-67\n"
     ]
    }
   ],
   "source": [
    "roll=input(\"enter number-\")"
   ]
  },
  {
   "cell_type": "code",
   "execution_count": 26,
   "id": "1e31d11d",
   "metadata": {},
   "outputs": [
    {
     "data": {
      "text/plain": [
       "'67'"
      ]
     },
     "execution_count": 26,
     "metadata": {},
     "output_type": "execute_result"
    }
   ],
   "source": [
    "roll"
   ]
  },
  {
   "cell_type": "markdown",
   "id": "7c51b8d2",
   "metadata": {},
   "source": [
    "### print function -  inbuilt function which displays the output"
   ]
  },
  {
   "cell_type": "markdown",
   "id": "237f5e9e",
   "metadata": {},
   "source": [
    "used to print something  use shift+ tab to view properties of any inbuilt functions"
   ]
  },
  {
   "cell_type": "code",
   "execution_count": 12,
   "id": "3db00585",
   "metadata": {},
   "outputs": [
    {
     "name": "stdout",
     "output_type": "stream",
     "text": [
      "hello\n"
     ]
    }
   ],
   "source": [
    " print(\"hello\")## you can add single value inside \"\""
   ]
  },
  {
   "cell_type": "code",
   "execution_count": 34,
   "id": "b5728392",
   "metadata": {},
   "outputs": [
    {
     "name": "stdout",
     "output_type": "stream",
     "text": [
      "riya balmeet adi 67 9\n"
     ]
    }
   ],
   "source": [
    "print(\"riya\",\"balmeet\",\"adi\",roll, x) ## you can add multiple values by using , and then \""
   ]
  },
  {
   "cell_type": "code",
   "execution_count": 28,
   "id": "2f57b12c",
   "metadata": {},
   "outputs": [
    {
     "name": "stdout",
     "output_type": "stream",
     "text": [
      "riya-balmeet-adi-67-9\n"
     ]
    }
   ],
   "source": [
    "print(\"riya\",\"balmeet\",\"adi\",roll, x, sep=\"-\") ## sep(seperator ) default is space"
   ]
  },
  {
   "cell_type": "code",
   "execution_count": 33,
   "id": "729b407b",
   "metadata": {},
   "outputs": [
    {
     "name": "stdout",
     "output_type": "stream",
     "text": [
      "hiii,how are you=--------what is your age?\n"
     ]
    }
   ],
   "source": [
    "print(\"hiii\", end=\",\") ## end by default is new line u can use to chnge it\n",
    "print(\"how are you\" ,end=\"=--------\")\n",
    "print(\"what is your age?\")"
   ]
  },
  {
   "cell_type": "markdown",
   "id": "37c858aa",
   "metadata": {},
   "source": [
    "## operators= used for computation"
   ]
  },
  {
   "cell_type": "markdown",
   "id": "a3d80f56",
   "metadata": {},
   "source": [
    "-arithmetic operators\n",
    "-relational operators\n",
    "-logical operators\n",
    "-bitwise \n",
    "-special: membership (in or not in)"
   ]
  },
  {
   "cell_type": "markdown",
   "id": "c02c2add",
   "metadata": {},
   "source": [
    "## arithmetic "
   ]
  },
  {
   "cell_type": "markdown",
   "id": "0bcdefd0",
   "metadata": {},
   "source": [
    "sum, sub, multiply, divide,floor div, exponnet, modulus"
   ]
  },
  {
   "cell_type": "code",
   "execution_count": 40,
   "id": "cc99ea5e",
   "metadata": {},
   "outputs": [
    {
     "name": "stdout",
     "output_type": "stream",
     "text": [
      "enter first digit50\n",
      "enter 2nd digit70\n",
      "120\n",
      "the sum of 50 and 70 is 120\n",
      "the sub of 50 and 70 is -20\n",
      "the product of 50 and 70 is 3500\n",
      "the divide of 50 and 70 is 0.7142857142857143\n",
      "the floor division of 50 and 70 is 0\n",
      "the modulus of 50 and 70 is 50\n",
      "the exponent of 50 and 70 is 84703294725430033906832250067964196205139160156250000000000000000000000000000000000000000000000000000000000000000000000\n"
     ]
    }
   ],
   "source": [
    "num1=(int(input(\"enter first digit\")))\n",
    "num2=(int(input(\"enter 2nd digit\")))\n",
    "print(num1+num2)\n",
    "print(\"the sum of\",num1,\"and\",num2, \"is\",num1+num2)\n",
    "print(\"the sub of\",num1,\"and\",num2 ,\"is\",num1-num2)\n",
    "print(\"the product of\",num1,\"and\",num2 ,\"is\",num1*num2)\n",
    "print(\"the divide of\", num1,\"and\", num2 ,\"is\",num1/num2)\n",
    "print(\"the floor division of\", num1,\"and\", num2, \"is\",num1//num2)\n",
    "print(\"the modulus of\", num1,\"and\", num2 ,\"is\",num1%num2)\n",
    "print(\"the exponent of\", num1,\"and\", num2 ,\"is\",num1**num2)"
   ]
  },
  {
   "cell_type": "markdown",
   "id": "1f1f450b",
   "metadata": {},
   "source": [
    "## relational operators"
   ]
  },
  {
   "cell_type": "code",
   "execution_count": 41,
   "id": "8cd9bd80",
   "metadata": {},
   "outputs": [
    {
     "name": "stdout",
     "output_type": "stream",
     "text": [
      "enter first no.5\n",
      "enter second no.8\n",
      "equal to False\n",
      "not equal to True\n",
      "greater to False\n",
      "greater than or equal  False\n",
      "less True\n",
      "equal or less than True\n"
     ]
    }
   ],
   "source": [
    "num1= int(input(\"enter first no.\"))\n",
    "num2= int(input(\"enter second no.\"))\n",
    "print(\"equal to\",num1==num2)\n",
    "print(\"not equal to\",num1!=num2)\n",
    "print(\"greater to\",num1>num2)\n",
    "print(\"greater than or equal \",num1>=num2)\n",
    "print(\"less\",num1<num2)\n",
    "print(\"equal or less than\",num1<=num2)\n"
   ]
  },
  {
   "cell_type": "markdown",
   "id": "2cd28f9f",
   "metadata": {},
   "source": [
    "## logical operators\n",
    "-and\n",
    "\n",
    "-or\n",
    "\n",
    "-not"
   ]
  },
  {
   "cell_type": "markdown",
   "id": "a845602e",
   "metadata": {},
   "source": [
    "## or"
   ]
  },
  {
   "cell_type": "code",
   "execution_count": 42,
   "id": "86730881",
   "metadata": {},
   "outputs": [
    {
     "name": "stdout",
     "output_type": "stream",
     "text": [
      "or\n",
      "True-False: True\n",
      "True-False: False\n",
      "True-False: True\n",
      "True-False: True\n"
     ]
    }
   ],
   "source": [
    "print(\"or\")\n",
    "print(\"True-False:\",True or False)\n",
    "print(\"True-False:\",False or False)\n",
    "print(\"True-False:\",False or True) ## or works if one is true then answer is true\n",
    "print(\"True-False:\",True or True)"
   ]
  },
  {
   "cell_type": "code",
   "execution_count": 52,
   "id": "996dc352",
   "metadata": {},
   "outputs": [
    {
     "name": "stdout",
     "output_type": "stream",
     "text": [
      "5\n",
      "5\n",
      "0\n"
     ]
    }
   ],
   "source": [
    "print(0 or 5)\n",
    "print(5 or 15)\n",
    "print(0 or 0) ## pos. and neg. integers are true and 0 is false"
   ]
  },
  {
   "cell_type": "markdown",
   "id": "2a694b13",
   "metadata": {},
   "source": [
    "## and"
   ]
  },
  {
   "cell_type": "code",
   "execution_count": 43,
   "id": "d4a24807",
   "metadata": {},
   "outputs": [
    {
     "name": "stdout",
     "output_type": "stream",
     "text": [
      "and\n",
      "True-False: False\n",
      "True-False: False\n",
      "True-False: False\n",
      "True-False: True\n"
     ]
    }
   ],
   "source": [
    "print(\"and\")\n",
    "print(\"True-False:\",True and False)\n",
    "print(\"True-False:\",False and False)\n",
    "print(\"True-False:\",False and True) ## and if one is false answer is false\n",
    "print(\"True-False:\",True and True)"
   ]
  },
  {
   "cell_type": "code",
   "execution_count": 50,
   "id": "7e40f4c9",
   "metadata": {},
   "outputs": [
    {
     "name": "stdout",
     "output_type": "stream",
     "text": [
      "9\n",
      "0\n",
      "0\n"
     ]
    }
   ],
   "source": [
    "print(8 and 9)\n",
    "print( 0 and 0)\n",
    "print(0 and 8)"
   ]
  },
  {
   "cell_type": "markdown",
   "id": "e6fae6e3",
   "metadata": {},
   "source": [
    "## NOT"
   ]
  },
  {
   "cell_type": "code",
   "execution_count": 60,
   "id": "835f6d48",
   "metadata": {},
   "outputs": [
    {
     "ename": "SyntaxError",
     "evalue": "invalid syntax. Perhaps you forgot a comma? (3399264206.py, line 2)",
     "output_type": "error",
     "traceback": [
      "\u001b[1;36m  Cell \u001b[1;32mIn[60], line 2\u001b[1;36m\u001b[0m\n\u001b[1;33m    print(\"True-False:\", True not False)\u001b[0m\n\u001b[1;37m                         ^\u001b[0m\n\u001b[1;31mSyntaxError\u001b[0m\u001b[1;31m:\u001b[0m invalid syntax. Perhaps you forgot a comma?\n"
     ]
    }
   ],
   "source": [
    "print(\"not\") ## not toggles if you give false it will be true AND VICE VERSA\n",
    "print(\"True-False:\", True not False)\n",
    "print(\"True-False:\", False not True) \n",
    "print(\"True-False:\", True not True)"
   ]
  },
  {
   "cell_type": "code",
   "execution_count": 53,
   "id": "7ce41899",
   "metadata": {},
   "outputs": [
    {
     "data": {
      "text/plain": [
       "True"
      ]
     },
     "execution_count": 53,
     "metadata": {},
     "output_type": "execute_result"
    }
   ],
   "source": [
    "not(0)"
   ]
  },
  {
   "cell_type": "markdown",
   "id": "39c3807e",
   "metadata": {},
   "source": [
    "## membership operator\n",
    "bitwise skip"
   ]
  },
  {
   "cell_type": "code",
   "execution_count": 54,
   "id": "8ddd4cf1",
   "metadata": {},
   "outputs": [
    {
     "data": {
      "text/plain": [
       "True"
      ]
     },
     "execution_count": 54,
     "metadata": {},
     "output_type": "execute_result"
    }
   ],
   "source": [
    "\"mad\" in \"madrid\""
   ]
  },
  {
   "cell_type": "code",
   "execution_count": 57,
   "id": "a7096fe6",
   "metadata": {},
   "outputs": [
    {
     "data": {
      "text/plain": [
       "False"
      ]
     },
     "execution_count": 57,
     "metadata": {},
     "output_type": "execute_result"
    }
   ],
   "source": [
    "\"mad\" in[\"madrid\",\"80\",0,\"hello\"] # in line it will examine component as whole not letter"
   ]
  },
  {
   "cell_type": "code",
   "execution_count": 58,
   "id": "06fc79b4",
   "metadata": {},
   "outputs": [
    {
     "data": {
      "text/plain": [
       "True"
      ]
     },
     "execution_count": 58,
     "metadata": {},
     "output_type": "execute_result"
    }
   ],
   "source": [
    "\"0\" in[90,\"0\",\"jii\",0] # IF IN STRING"
   ]
  },
  {
   "cell_type": "code",
   "execution_count": 61,
   "id": "d20e2110",
   "metadata": {},
   "outputs": [
    {
     "data": {
      "text/plain": [
       "False"
      ]
     },
     "execution_count": 61,
     "metadata": {},
     "output_type": "execute_result"
    }
   ],
   "source": [
    "67 not in[\"HLL\",0,\"67\",\"NOT\",67]"
   ]
  },
  {
   "cell_type": "markdown",
   "id": "f78b122d",
   "metadata": {},
   "source": [
    "## is and is not: identity or location"
   ]
  },
  {
   "cell_type": "code",
   "execution_count": 68,
   "id": "d74a5673",
   "metadata": {},
   "outputs": [
    {
     "name": "stdout",
     "output_type": "stream",
     "text": [
      "2079289379856\n",
      "2079289379216\n",
      "True\n"
     ]
    },
    {
     "data": {
      "text/plain": [
       "False"
      ]
     },
     "execution_count": 68,
     "metadata": {},
     "output_type": "execute_result"
    }
   ],
   "source": [
    "a=90\n",
    "b=70\n",
    "print(id (a))\n",
    "print(id(b))\n",
    "print(a is  not b) ## not compulsory to mention print in last line\n",
    "a is b"
   ]
  },
  {
   "cell_type": "markdown",
   "id": "2f11f925",
   "metadata": {},
   "source": [
    "\n",
    "# ESCAPE SEQUENCE: IF THE SEQUENCE OF CHARACTERS WHICH DOESNOT PRESENT AS A NORMAL CHARACTERS BUT THEY ARE CONVERTED INTO DIFFERENT MEANINGS."
   ]
  },
  {
   "cell_type": "markdown",
   "id": "1f612aed",
   "metadata": {},
   "source": [
    "\\n =  by default generates new line\n"
   ]
  },
  {
   "cell_type": "code",
   "execution_count": 1,
   "id": "08433fa8",
   "metadata": {},
   "outputs": [
    {
     "name": "stdout",
     "output_type": "stream",
     "text": [
      "hllo\n"
     ]
    }
   ],
   "source": [
    "print(\"hllo\")"
   ]
  },
  {
   "cell_type": "code",
   "execution_count": 2,
   "id": "b001ebaf",
   "metadata": {},
   "outputs": [
    {
     "name": "stdout",
     "output_type": "stream",
     "text": [
      "\n",
      "\n"
     ]
    }
   ],
   "source": [
    "print(\"\\n\")"
   ]
  },
  {
   "cell_type": "markdown",
   "id": "2459cb2b",
   "metadata": {},
   "source": [
    " ## print (/n and \\n)\n",
    "    "
   ]
  },
  {
   "cell_type": "code",
   "execution_count": 6,
   "id": "edccf0de",
   "metadata": {},
   "outputs": [
    {
     "name": "stdout",
     "output_type": "stream",
     "text": [
      "hello\n",
      " hii\n"
     ]
    }
   ],
   "source": [
    "print(\"hello\\n hii\")"
   ]
  },
  {
   "cell_type": "code",
   "execution_count": 7,
   "id": "3be75e87",
   "metadata": {},
   "outputs": [
    {
     "name": "stdout",
     "output_type": "stream",
     "text": [
      "/n\n"
     ]
    }
   ],
   "source": [
    "print(\"/n\")"
   ]
  },
  {
   "cell_type": "code",
   "execution_count": 13,
   "id": "ea086cb7",
   "metadata": {},
   "outputs": [
    {
     "name": "stdout",
     "output_type": "stream",
     "text": [
      "\\n\n"
     ]
    }
   ],
   "source": [
    "print(\"\\\\n\") ## use \\\\ double back slash to suppress the meaning of the special character"
   ]
  },
  {
   "cell_type": "markdown",
   "id": "00a09bf3",
   "metadata": {},
   "source": [
    "## \\t: generates the tab means space"
   ]
  },
  {
   "cell_type": "markdown",
   "id": "d4d88a10",
   "metadata": {},
   "source": [
    "TASK \\t /t"
   ]
  },
  {
   "cell_type": "code",
   "execution_count": 14,
   "id": "4b785a35",
   "metadata": {},
   "outputs": [
    {
     "name": "stdout",
     "output_type": "stream",
     "text": [
      "/t\n"
     ]
    }
   ],
   "source": [
    "print(\"/t\")"
   ]
  },
  {
   "cell_type": "code",
   "execution_count": 15,
   "id": "db43077a",
   "metadata": {},
   "outputs": [
    {
     "name": "stdout",
     "output_type": "stream",
     "text": [
      "\t\n"
     ]
    }
   ],
   "source": [
    "print(\"\\t\")"
   ]
  },
  {
   "cell_type": "code",
   "execution_count": 16,
   "id": "84fad15a",
   "metadata": {},
   "outputs": [
    {
     "name": "stdout",
     "output_type": "stream",
     "text": [
      "hello \t hii\n"
     ]
    }
   ],
   "source": [
    "print (\"hello \\t hii\")"
   ]
  },
  {
   "cell_type": "code",
   "execution_count": 17,
   "id": "2f536d7c",
   "metadata": {},
   "outputs": [
    {
     "name": "stdout",
     "output_type": "stream",
     "text": [
      "\\t\n"
     ]
    }
   ],
   "source": [
    "print(\"\\\\t\")"
   ]
  },
  {
   "cell_type": "markdown",
   "id": "3da9576f",
   "metadata": {},
   "source": [
    "\\\\'  use for apostrophi"
   ]
  },
  {
   "cell_type": "code",
   "execution_count": 18,
   "id": "80d00ccd",
   "metadata": {},
   "outputs": [
    {
     "name": "stdout",
     "output_type": "stream",
     "text": [
      "hi how'r you\n"
     ]
    }
   ],
   "source": [
    "print(\"hi how'r you\")"
   ]
  },
  {
   "cell_type": "code",
   "execution_count": 19,
   "id": "3e22cbc2",
   "metadata": {},
   "outputs": [
    {
     "ename": "SyntaxError",
     "evalue": "unterminated string literal (detected at line 1) (3590042375.py, line 1)",
     "output_type": "error",
     "traceback": [
      "\u001b[1;36m  Cell \u001b[1;32mIn[19], line 1\u001b[1;36m\u001b[0m\n\u001b[1;33m    print('hi how'r you')\u001b[0m\n\u001b[1;37m                       ^\u001b[0m\n\u001b[1;31mSyntaxError\u001b[0m\u001b[1;31m:\u001b[0m unterminated string literal (detected at line 1)\n"
     ]
    }
   ],
   "source": [
    "print('hi how'r you')"
   ]
  },
  {
   "cell_type": "code",
   "execution_count": 21,
   "id": "dc294ca9",
   "metadata": {},
   "outputs": [
    {
     "name": "stdout",
     "output_type": "stream",
     "text": [
      "hi how'r you\n"
     ]
    }
   ],
   "source": [
    "print('hi how\\'r you')"
   ]
  },
  {
   "cell_type": "code",
   "execution_count": 23,
   "id": "a363f3ab",
   "metadata": {},
   "outputs": [
    {
     "ename": "SyntaxError",
     "evalue": "unterminated string literal (detected at line 1) (35010734.py, line 1)",
     "output_type": "error",
     "traceback": [
      "\u001b[1;36m  Cell \u001b[1;32mIn[23], line 1\u001b[1;36m\u001b[0m\n\u001b[1;33m    print ('hi how \\\\'r you')\u001b[0m\n\u001b[1;37m                           ^\u001b[0m\n\u001b[1;31mSyntaxError\u001b[0m\u001b[1;31m:\u001b[0m unterminated string literal (detected at line 1)\n"
     ]
    }
   ],
   "source": [
    "print ('hi how \\\\'r you')"
   ]
  },
  {
   "cell_type": "markdown",
   "id": "6e1a0cff",
   "metadata": {},
   "source": [
    "# \\b backspace\n"
   ]
  },
  {
   "cell_type": "code",
   "execution_count": 26,
   "id": "a4cb7534",
   "metadata": {},
   "outputs": [
    {
     "name": "stdout",
     "output_type": "stream",
     "text": [
      "hello\b\n"
     ]
    }
   ],
   "source": [
    "print(\"hello\\b\")"
   ]
  },
  {
   "cell_type": "markdown",
   "id": "8c964058",
   "metadata": {},
   "source": [
    "Raj has 24 candies, simran has 34 candies, aditya has 21 candies . Candies would be equally distributed\n",
    "How many candies need to be distributed to each of them and remaning candies need to given to diksha ?\n"
   ]
  },
  {
   "cell_type": "code",
   "execution_count": 5,
   "id": "bd85409a",
   "metadata": {},
   "outputs": [
    {
     "name": "stdout",
     "output_type": "stream",
     "text": [
      "the total no. of candies 79\n"
     ]
    }
   ],
   "source": [
    " raj=24\n",
    "simran=34\n",
    "aditya=21 \n",
    "total=print(\"the total no. of candies\", raj+simran+aditya)"
   ]
  },
  {
   "cell_type": "code",
   "execution_count": 34,
   "id": "d2b511cb",
   "metadata": {},
   "outputs": [
    {
     "name": "stdout",
     "output_type": "stream",
     "text": [
      "equal candies 26.333333333333332\n",
      "<class 'float'>\n",
      "26\n"
     ]
    }
   ],
   "source": [
    "equal=print(\"equal candies\",79/3)\n",
    "equal=26.333333333332\n",
    "print(type(equal))\n",
    "candies=int(equal)\n",
    "print(candy)"
   ]
  },
  {
   "cell_type": "code",
   "execution_count": 28,
   "id": "ccc63a6c",
   "metadata": {},
   "outputs": [
    {
     "name": "stdout",
     "output_type": "stream",
     "text": [
      "78\n"
     ]
    }
   ],
   "source": [
    "    total=print(26+26+26)"
   ]
  },
  {
   "cell_type": "code",
   "execution_count": 35,
   "id": "39f1d425",
   "metadata": {},
   "outputs": [
    {
     "name": "stdout",
     "output_type": "stream",
     "text": [
      "diksha will get 1 candy\n"
     ]
    }
   ],
   "source": [
    "diksha= print(\"diksha will get\",79-78,\"candy\"  )"
   ]
  },
  {
   "cell_type": "code",
   "execution_count": null,
   "id": "33d64698",
   "metadata": {},
   "outputs": [],
   "source": []
  }
 ],
 "metadata": {
  "kernelspec": {
   "display_name": "Python 3 (ipykernel)",
   "language": "python",
   "name": "python3"
  },
  "language_info": {
   "codemirror_mode": {
    "name": "ipython",
    "version": 3
   },
   "file_extension": ".py",
   "mimetype": "text/x-python",
   "name": "python",
   "nbconvert_exporter": "python",
   "pygments_lexer": "ipython3",
   "version": "3.10.9"
  }
 },
 "nbformat": 4,
 "nbformat_minor": 5
}
